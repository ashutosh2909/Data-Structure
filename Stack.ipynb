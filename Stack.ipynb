{
 "cells": [
  {
   "cell_type": "markdown",
   "metadata": {},
   "source": [
    "## Stack\n",
    "Lets take an example to understand the concept of stack.\n",
    "\n",
    "Let there are some books eg, A, B, C, D spread around the floor. You have to arrange these books one on top of other. Like this ...\n",
    "<br>A</br>\n",
    "<br>B</br>\n",
    "<br>C</br>\n",
    "<br>D</br>\n",
    "<br>This arrangement is called Stack where you can take the element which is at the top most position.</br>\n",
    "Element of stacks can be accessed by priciple of LIFO.\n",
    "<br>Opeartions that can be peformed in Stacks are</br>\n",
    "1. Push: Insert an element into the stack.\n",
    "2. Pop: take out an element (most recent) from the stack.\n",
    "3. IsEmpty: Check is stack is empty.\n",
    "5. Peek: Return a copy of top most element of a stack."
   ]
  },
  {
   "cell_type": "code",
   "execution_count": 1,
   "metadata": {},
   "outputs": [],
   "source": [
    "class Stack():\n",
    "    def __init__(self):\n",
    "        self.items = []\n",
    "        \n",
    "     # is empty\n",
    "    def is_empty(self):\n",
    "        return self.items == []\n",
    "    \n",
    "    # push\n",
    "    def push(self, item):\n",
    "        self.items.append(item)\n",
    "    \n",
    "    # pop\n",
    "    def pop(self):\n",
    "        if not self.is_empty():\n",
    "            return self.items.pop()\n",
    "        else:\n",
    "            return (\"Stack is empty, can't perform this operation\")\n",
    "    \n",
    "    # return a copy of peek element of stack\n",
    "    def peek(self):\n",
    "        if self.items != []:\n",
    "            return self.items[-1]\n",
    "        else:\n",
    "            return (\"Stack is empty, can't perform this operation\")\n",
    "    \n",
    "    # get stack\n",
    "    def get_stack(self):\n",
    "        return self.items"
   ]
  },
  {
   "cell_type": "code",
   "execution_count": 2,
   "metadata": {},
   "outputs": [
    {
     "name": "stdout",
     "output_type": "stream",
     "text": [
      "True\n",
      "Stack is empty, can't perform this operation\n",
      "['A', 'B']\n",
      "['A']\n",
      "['A', 'C']\n",
      "C\n",
      "['A', 'C']\n",
      "C\n",
      "False\n"
     ]
    }
   ],
   "source": [
    "# create an object of stack\n",
    "stack = Stack()\n",
    "\n",
    "# check if the stack is empty\n",
    "print(stack.is_empty())\n",
    "\n",
    "# Try to pop an element\n",
    "print(stack.pop())\n",
    "\n",
    "# push A and then B\n",
    "stack.push(\"A\")\n",
    "stack.push(\"B\")\n",
    "print(stack.get_stack())\n",
    "\n",
    "# Pop out the top element\n",
    "stack.pop()\n",
    "print(stack.get_stack())\n",
    "\n",
    "# Push C\n",
    "stack.push(\"C\")\n",
    "print(stack.get_stack())\n",
    "\n",
    "# return a copy of top element\n",
    "print(stack.peek())\n",
    "\n",
    "# Get the state of current stack\n",
    "print(stack.get_stack())\n",
    "\n",
    "# Pop the top element\n",
    "print(stack.pop())\n",
    "\n",
    "# Check if stack is empty\n",
    "print(stack.is_empty())"
   ]
  },
  {
   "cell_type": "markdown",
   "metadata": {},
   "source": [
    "#### 1. Check if the parenthesis are balanced or not using Stack"
   ]
  },
  {
   "cell_type": "raw",
   "metadata": {},
   "source": [
    "### Using Stack check if the parenthesis are balanced or not.\n",
    "Example:\n",
    "    (), ()(), (({[]}))  <- Balanced.\n",
    "    ((), {{{)}], [][]]] <- Not Balanced.\n",
    "Balanced Example: {[]}\n",
    "Non-Balanced Example: (()\n",
    "Non-Balanced Example: ))"
   ]
  },
  {
   "cell_type": "markdown",
   "metadata": {},
   "source": [
    "Algorithm\n",
    "1. Loop through the string.\n",
    "2. Each time an opening parenthesis is encountered, push it into the stack.\n",
    "3. Each time a closing parenthesis is encountered, pop the top element from the stack and compare. If it is match that means parenthesis are balanced else not balanced."
   ]
  },
  {
   "cell_type": "code",
   "execution_count": 19,
   "metadata": {},
   "outputs": [
    {
     "name": "stdout",
     "output_type": "stream",
     "text": [
      "The string is : (((({}))))\n",
      "True\n",
      "The string is : [][]]]\n",
      "False\n",
      "The string is : [][]\n",
      "True\n",
      "The string is : \n",
      "True\n",
      "The string is :  \n",
      "False\n"
     ]
    }
   ],
   "source": [
    "def is_paren_balanced(paren_string):\n",
    "    print(\"The string is :\", paren_string)\n",
    "    s = Stack()\n",
    "    is_balanced = True\n",
    "    index = 0\n",
    "\n",
    "    while index < len(paren_string) and is_balanced:\n",
    "        paren = paren_string[index]\n",
    "        if paren in \"([{\":\n",
    "            s.push(paren)\n",
    "        else:\n",
    "            if s.is_empty():\n",
    "                is_balanced = False\n",
    "            else:\n",
    "                top = s.pop()\n",
    "                if not is_match(top, paren):\n",
    "                    is_balanced = False\n",
    "        index += 1\n",
    "\n",
    "    if s.is_empty() and is_balanced:\n",
    "        return True\n",
    "    else:\n",
    "        return False\n",
    "\n",
    "\n",
    "print(is_paren_balanced(\"(((({}))))\"))\n",
    "print(is_paren_balanced(\"[][]]]\"))\n",
    "print(is_paren_balanced(\"[][]\"))\n",
    "print(is_paren_balanced(\"\"))\n",
    "print(is_paren_balanced(\" \"))"
   ]
  },
  {
   "cell_type": "markdown",
   "metadata": {},
   "source": [
    "#### 2. Covert to Decimal to Binary using Stack"
   ]
  },
  {
   "cell_type": "code",
   "execution_count": 20,
   "metadata": {},
   "outputs": [
    {
     "name": "stdout",
     "output_type": "stream",
     "text": [
      "11110010\n"
     ]
    }
   ],
   "source": [
    "def dec_to_bin(dec_num):\n",
    "    st = Stack()\n",
    "    while dec_num != 0:\n",
    "        reminder = dec_num % 2\n",
    "        st.push(reminder)\n",
    "        dec_num = dec_num // 2\n",
    "        \n",
    "    bin_num = \"\"\n",
    "    while not st.is_empty():\n",
    "        bin_num += str(st.pop())\n",
    "    \n",
    "    return(bin_num)\n",
    "\n",
    "print(dec_to_bin(242))"
   ]
  },
  {
   "cell_type": "markdown",
   "metadata": {},
   "source": [
    "#### 3. Use Stack to reverse a string"
   ]
  },
  {
   "cell_type": "code",
   "execution_count": 21,
   "metadata": {},
   "outputs": [
    {
     "name": "stdout",
     "output_type": "stream",
     "text": [
      "hsotuhsA\n"
     ]
    }
   ],
   "source": [
    "def revserse_string(my_string):\n",
    "    stack_reverse = Stack()\n",
    "    for i in my_string:\n",
    "        stack_reverse.push(i)\n",
    "    \n",
    "    rev_str = \"\"\n",
    "    \n",
    "    while not stack_reverse.is_empty():\n",
    "        rev_str += stack_reverse.pop()\n",
    "    return(rev_str)\n",
    "        \n",
    "print(revserse_string('Ashutosh'))"
   ]
  }
 ],
 "metadata": {
  "kernelspec": {
   "display_name": "Python 3",
   "language": "python",
   "name": "python3"
  },
  "language_info": {
   "codemirror_mode": {
    "name": "ipython",
    "version": 3
   },
   "file_extension": ".py",
   "mimetype": "text/x-python",
   "name": "python",
   "nbconvert_exporter": "python",
   "pygments_lexer": "ipython3",
   "version": "3.6.5"
  }
 },
 "nbformat": 4,
 "nbformat_minor": 2
}
